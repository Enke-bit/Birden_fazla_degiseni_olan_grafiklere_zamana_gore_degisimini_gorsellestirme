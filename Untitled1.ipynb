{
 "cells": [
  {
   "cell_type": "markdown",
   "id": "76bd5308",
   "metadata": {},
   "source": [
    "Gerekli Kütüphanelerin İthal Edilmesi"
   ]
  },
  {
   "cell_type": "code",
   "execution_count": 1,
   "id": "911434a7",
   "metadata": {},
   "outputs": [],
   "source": [
    "# Bu hücrede, gerekli kütüphaneleri ithal ediyoruz ve grafiklerin stilini belirlemek için seaborn temasını ayarlıyoruz.\n",
    "\n",
    "import numpy as np\n",
    "import seaborn as sns\n",
    "import matplotlib.pyplot as plt\n",
    "from matplotlib.animation import FuncAnimation, PillowWriter\n",
    "\n",
    "# Grafiklerin stilini belirlemek için seaborn temasını ayarlıyoruz\n",
    "sns.set_theme(style=\"dark\")"
   ]
  },
  {
   "cell_type": "markdown",
   "id": "d6760ac3",
   "metadata": {},
   "source": [
    "Başlangıç Parametrelerinin Belirlenmesi"
   ]
  },
  {
   "cell_type": "code",
   "execution_count": 2,
   "id": "c985fec9",
   "metadata": {},
   "outputs": [],
   "source": [
    "# Başlangıç parametrelerini belirliyoruz\n",
    "n = 10000\n",
    "mean = [0, 0]\n",
    "cov = [(2, .4), (.4, .2)]\n",
    "rng = np.random.RandomState(0)"
   ]
  },
  {
   "cell_type": "markdown",
   "id": "8238a1ae",
   "metadata": {},
   "source": [
    "Grafik Oluşturmak İçin Şekil ve Eksenlerin Belirlenmesi"
   ]
  },
  {
   "cell_type": "code",
   "execution_count": 3,
   "id": "5a1321a7",
   "metadata": {},
   "outputs": [
    {
     "data": {
      "image/png": "[encoded data removed]",
      "text/plain": [
       "<Figure size 600x600 with 1 Axes>"
      ]
     },
     "metadata": {},
     "output_type": "display_data"
    }
   ],
   "source": [
    "# Grafik oluşturmak için şekil ve eksenleri belirliyoruz\n",
    "fig, ax = plt.subplots(figsize=(6, 6))"
   ]
  },
  {
   "cell_type": "markdown",
   "id": "150a5204",
   "metadata": {},
   "source": [
    "Veriyi Oluşturma ve Güncelleme Fonksiyonunun Tanımlanması"
   ]
  },
  {
   "cell_type": "code",
   "execution_count": 4,
   "id": "7b25950c",
   "metadata": {},
   "outputs": [],
   "source": [
    "# Veriyi oluşturma ve güncelleme fonksiyonunu tanımlıyoruz\n",
    "def update(frame):\n",
    "    ax.clear()\n",
    "    x, y = rng.multivariate_normal(mean, cov, n).T\n",
    "    sns.scatterplot(x=x, y=y, s=5, color=\".15\", ax=ax)\n",
    "    sns.histplot(x=x, y=y, bins=50, pthresh=.1, cmap=\"mako\", ax=ax)\n",
    "    sns.kdeplot(x=x, y=y, levels=5, color=\"w\", linewidths=1, ax=ax)\n",
    "    ax.set_title(f\"Frame {frame}\")\n",
    "    \n",
    "# Bu hücrede, veriyi oluşturma ve grafiği güncelleme işlemlerini gerçekleştiren update fonksiyonunu tanımlıyoruz. Her karede veriyi yeniden oluşturup grafiği güncelliyor."
   ]
  },
  {
   "cell_type": "markdown",
   "id": "414d78ec",
   "metadata": {},
   "source": [
    "Animasyonun Oluşturulması"
   ]
  },
  {
   "cell_type": "code",
   "execution_count": 5,
   "id": "309bb6e8",
   "metadata": {},
   "outputs": [],
   "source": [
    "# Animasyonu oluşturuyoruz\n",
    "ani = FuncAnimation(fig, update, frames=range(20), interval=500)\n",
    "\n",
    "# Bu hücrede, FuncAnimation fonksiyonunu kullanarak animasyonu oluşturuyoruz. Animasyon 20 kareden oluşacak ve her kare 500 milisaniye arayla güncellenecek."
   ]
  },
  {
   "cell_type": "markdown",
   "id": "480b32db",
   "metadata": {},
   "source": [
    "Animasyonun GIF Olarak Kaydedilmesi"
   ]
  },
  {
   "cell_type": "code",
   "execution_count": 6,
   "id": "d96302b1",
   "metadata": {},
   "outputs": [],
   "source": [
    "# Animasyonu bir GIF dosyası olarak kaydediyoruz\n",
    "ani.save(\"data_variation_animation.gif\", writer=PillowWriter(fps=2))\n",
    "\n",
    "plt.show()"
   ]
  }
 ],
 "metadata": {
  "kernelspec": {
   "display_name": "Python 3 (ipykernel)",
   "language": "python",
   "name": "python3"
  },
  "language_info": {
   "codemirror_mode": {
    "name": "ipython",
    "version": 3
   },
   "file_extension": ".py",
   "mimetype": "text/x-python",
   "name": "python",
   "nbconvert_exporter": "python",
   "pygments_lexer": "ipython3",
   "version": "3.11.5"
  }
 },
 "nbformat": 4,
 "nbformat_minor": 5
}
